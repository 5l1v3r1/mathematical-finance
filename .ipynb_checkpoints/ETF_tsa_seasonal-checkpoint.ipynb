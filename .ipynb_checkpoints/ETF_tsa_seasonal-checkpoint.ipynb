{
 "cells": [
  {
   "cell_type": "markdown",
   "metadata": {
    "colab_type": "text",
    "id": "view-in-github"
   },
   "source": [
    "<a href=\"https://colab.research.google.com/github/alik604/Notebooks/blob/master/google-Colab/ETF_tsa_seasonal.ipynb\" target=\"_parent\"><img src=\"https://colab.research.google.com/assets/colab-badge.svg\" alt=\"Open In Colab\"/></a>"
   ]
  },
  {
   "cell_type": "markdown",
   "metadata": {
    "colab_type": "text",
    "id": "16ObbV74fF5L"
   },
   "source": [
    "## exploration of seasonality in the SPX, airline stocks, and slected comadition based 3x leverage ETFs \n"
   ]
  },
  {
   "cell_type": "code",
   "execution_count": null,
   "metadata": {
    "colab": {
     "base_uri": "https://localhost:8080/",
     "height": 459
    },
    "colab_type": "code",
    "collapsed": true,
    "id": "ZFRj4XIEkjN_",
    "outputId": "8d8a0dca-e939-4625-960a-fe7280f54180"
   },
   "outputs": [],
   "source": [
    "# Importing the libraries\n",
    "import scipy\n",
    "import numpy as np\n",
    "import matplotlib.pyplot as plt\n",
    "plt.style.use('fivethirtyeight')\n",
    "import pandas as pd\n",
    "\n",
    "import math\n",
    "from sklearn.metrics import mean_squared_error\n",
    "\n",
    "!pip install pandas-datareader\n",
    "from pandas_datareader import data as web\n",
    "\n",
    "# !pip install yfinance\n",
    "# !pip install fix_yahoo_finance\n",
    "# import fix_yahoo_finance as yf\n"
   ]
  },
  {
   "cell_type": "code",
   "execution_count": null,
   "metadata": {
    "colab": {
     "base_uri": "https://localhost:8080/",
     "height": 252
    },
    "colab_type": "code",
    "collapsed": true,
    "id": "WZhb6WeP2xHm",
    "outputId": "94ea563c-6477-48c1-b2e8-b2ce7462ba62"
   },
   "outputs": [],
   "source": [
    "share = 'DGAZ'\n",
    "# #dataset = yf.download(share,\"2003-3-14\") #, start=\"2017-01-01\"\n",
    "# dataset = yf.download(share,\"2013-1-1\") #, start=\"2017-01-01\"\n",
    "dataset = web.DataReader(share, data_source='yahoo', start='2017-1-1')#['Adj Close']\n",
    "# dataset = dataset['Adj Close']\n",
    "dataset.head()\n"
   ]
  },
  {
   "cell_type": "code",
   "execution_count": null,
   "metadata": {
    "colab": {},
    "colab_type": "code",
    "collapsed": true,
    "id": "IZPua4792x9j"
   },
   "outputs": [],
   "source": [
    "dataset['MA'] =  dataset['Adj Close'].rolling(window=2).mean()\n",
    "dataset.head()"
   ]
  },
  {
   "cell_type": "code",
   "execution_count": null,
   "metadata": {
    "colab": {},
    "colab_type": "code",
    "collapsed": true,
    "id": "Wr38msmb_STG"
   },
   "outputs": [],
   "source": [
    "from statsmodels.tsa.seasonal import seasonal_decompose\n"
   ]
  },
  {
   "cell_type": "markdown",
   "metadata": {
    "colab_type": "text",
    "id": "F_7lKBvsCVv2"
   },
   "source": [
    "# https://www.cbcity.de/timeseries-decomposition-in-python-with-statsmodels-and-pandas\n",
    "\n",
    "# https://gist.github.com/balzer82/5cec6ad7adc1b550e7ee\n",
    "\n",
    "import statsmodels.api as sm\n",
    "\n",
    "The `seasonal_decompose()` function needs a parameter called `freq`, which could be computed from the Pandas Timeseries, but is not fully functional right now. So we have to specify it for ourselves. The frequency of decomposition must be an interval, which ‘may’ repeat. Like a hour, a week, a day or something one is interested in.  Our data is stored with 15min resolution and I want to see a weekly seasonality, so our `freq` is\n",
    "\n",
    "decompfreq=24h⋅60min15min⋅7days\n",
    "The Python implementation is this:\n",
    "\n",
    "\n",
    "decompfreq = 24*60/15*7\n",
    "Now we can decompose the Pandas TimeSeries with statsmodels:\n",
    "\n",
    "\n",
    "res = sm.tsa.seasonal_decompose(centrumGalerie.Belegung.interpolate(),\n",
    " freq=decompfreq,\n",
    " model='additive')\n",
    "resplot = res.plot()\n",
    "\n",
    "The resulting decomposed timeseries is looking like this:"
   ]
  },
  {
   "cell_type": "markdown",
   "metadata": {
    "colab_type": "text",
    "id": "7-AGyfVydxIe"
   },
   "source": [
    "note: seasonal tiome series IFF low residuals\n",
    "\n",
    "When you compare this predicted value with the observed one whatever difference you get is called Residual\n",
    "\n",
    "\n",
    "for time series involving quantities (money), uses multiplicative, not additive\n",
    "\n"
   ]
  },
  {
   "cell_type": "code",
   "execution_count": null,
   "metadata": {
    "colab": {
     "base_uri": "https://localhost:8080/",
     "height": 1000
    },
    "colab_type": "code",
    "collapsed": true,
    "id": "G00oBl2j3Qzt",
    "outputId": "b7e0c790-fd28-4603-abac-d4f0997d2235"
   },
   "outputs": [],
   "source": [
    "result = seasonal_decompose(dataset.Close, model='multiplicative',freq=252)\n",
    "resulta = seasonal_decompose(dataset.Close, model='additive',freq=252)\n",
    "# print()\n",
    "# print()\n",
    "# print(result.resid)\n",
    "# print(result.observed)\n",
    "\n",
    "df = pd.DataFrame({\n",
    "   # \"trend\":result.trend,\n",
    "    \"seasonal\":result.seasonal,\n",
    "     \"seasonalAdditive\":resulta.seasonal,\n",
    "    \"resid\":result.resid\n",
    "      , \"residAddative\":resulta.resid\n",
    "    ,\"observed\":result.observed\n",
    "    \n",
    "    \n",
    "})\n",
    "\n",
    "\n",
    "df.plot(title= \"DGAZ\", figsize=(18,15),subplots=(5,1))\n"
   ]
  },
  {
   "cell_type": "code",
   "execution_count": null,
   "metadata": {
    "colab": {
     "base_uri": "https://localhost:8080/",
     "height": 418
    },
    "colab_type": "code",
    "collapsed": true,
    "id": "gfxjunwlbpsg",
    "outputId": "23748022-0104-46bd-f9a5-d631e3de86b6"
   },
   "outputs": [],
   "source": [
    "result = seasonal_decompose(dataset.Close, model='multiplicative',freq=252)\n",
    "resulta = seasonal_decompose(dataset.Close, model='additive',freq=252)\n",
    "# print()\n",
    "# print()\n",
    "# print(result.resid)\n",
    "# print(result.observed)\n",
    "\n",
    "\n",
    "resultSeasonal = result.seasonal/ np.linalg.norm(result.seasonal)\n",
    "resultAddSeasonal = resulta.seasonal / np.linalg.norm(resulta.seasonal)\n",
    "\n",
    "df = pd.DataFrame({\n",
    "   # \"trend\":result.trend,\n",
    "    \"seasonal\":result.Seasonal,\n",
    "     \"seasonalAdditive\":resultAddSeasonal,\n",
    "  #  \"resid\":result.resid\n",
    "  #  ,\"residAddative\":resulta.resid\n",
    "  #  ,\"observed\":result.observed\n",
    "    \n",
    "    \n",
    "})\n",
    "\n",
    "\n",
    "df.plot(title= \"DGAZ\", figsize=(18,6))"
   ]
  },
  {
   "cell_type": "code",
   "execution_count": null,
   "metadata": {
    "colab": {},
    "colab_type": "code",
    "collapsed": true,
    "id": "n6SUzvnVchOP"
   },
   "outputs": [],
   "source": []
  },
  {
   "cell_type": "code",
   "execution_count": null,
   "metadata": {
    "colab": {
     "base_uri": "https://localhost:8080/",
     "height": 392
    },
    "colab_type": "code",
    "collapsed": true,
    "id": "smOaM_bP3Q3h",
    "outputId": "d490b906-8665-4403-8e63-21c61918a5cb"
   },
   "outputs": [],
   "source": [
    "n =252\n",
    "dataset = yf.download(share,\"2017-1-1\") #, start=\"2017-01-01\"\n",
    "\n",
    "dataset = dataset.drop(columns=['Open','High', 'Low','Adj Close','Volume'])\n",
    "dataset.head(20)\n",
    "\n",
    "dataset.dropna() # needed for FNGU and FNGD \n",
    "\n",
    "\n",
    "\n",
    "result = seasonal_decompose(dataset, model='multiplicative',freq=252)\n",
    "\n",
    "\n",
    "\n",
    "df = pd.DataFrame({\n",
    "    \"seasonal\":result.seasonal,\n",
    "    \"resid\":result.resid\n",
    "    ,\"observed\":result.observed\n",
    "    \n",
    "    \n",
    "})\n",
    "df.plot(title=\"USLV (inverse silver )\",figsize=(18,15),subplots=(4,1))\n"
   ]
  },
  {
   "cell_type": "code",
   "execution_count": null,
   "metadata": {
    "colab": {},
    "colab_type": "code",
    "collapsed": true,
    "id": "HrKrRQqe3Q6q"
   },
   "outputs": [],
   "source": []
  },
  {
   "cell_type": "code",
   "execution_count": null,
   "metadata": {
    "colab": {},
    "colab_type": "code",
    "collapsed": true,
    "id": "QEWtxfJy3Q-B"
   },
   "outputs": [],
   "source": [
    "\n",
    "\n"
   ]
  },
  {
   "cell_type": "code",
   "execution_count": null,
   "metadata": {
    "colab": {},
    "colab_type": "code",
    "collapsed": true,
    "id": "xXUffbec3RBK"
   },
   "outputs": [],
   "source": [
    "\n"
   ]
  },
  {
   "cell_type": "code",
   "execution_count": null,
   "metadata": {
    "colab": {
     "base_uri": "https://localhost:8080/",
     "height": 1000
    },
    "colab_type": "code",
    "collapsed": true,
    "id": "Ih8oV4U13REK",
    "outputId": "0a802e9d-fd62-43c7-bdc1-9fadfcfc8173"
   },
   "outputs": [],
   "source": [
    "share = 'gush'\n",
    "\n",
    "#dataset = yf.download(share,\"2003-3-14\") #, start=\"2017-01-01\"\n",
    "dataset = yf.download(share,\"2017-1-1\") #, start=\"2017-01-01\"\n",
    "\n",
    "dataset = dataset.drop(columns=['Open','High', 'Low','Adj Close','Volume'])\n",
    "dataset.head(20)\n",
    "\n",
    "dataset.dropna() # needed for FNGU and FNGD \n",
    "\n",
    "result = seasonal_decompose(dataset.Close, model='multiplicative',freq=252)\n",
    "\n",
    "# print()\n",
    "# print()\n",
    "# print(result.resid)\n",
    "# print(result.observed)\n",
    "\n",
    "# dataset.plot(figsize=(18,6))\n",
    "\n",
    "df = pd.DataFrame({\n",
    "   # \"trend\":result.trend,\n",
    "    \"seasonal\":result.seasonal,\n",
    "    \"resid\":result.resid\n",
    "    ,\"observed\":result.observed\n",
    "    \n",
    "    \n",
    "})\n",
    "df.plot(title=\"USLV (inverse silver )\",figsize=(18,15),subplots=(4,1))"
   ]
  },
  {
   "cell_type": "code",
   "execution_count": null,
   "metadata": {
    "colab": {},
    "colab_type": "code",
    "collapsed": true,
    "id": "HvHEaWZJrqD7"
   },
   "outputs": [],
   "source": []
  },
  {
   "cell_type": "code",
   "execution_count": null,
   "metadata": {
    "colab": {
     "base_uri": "https://localhost:8080/",
     "height": 1000
    },
    "colab_type": "code",
    "collapsed": true,
    "id": "FtcbuQVq3RUk",
    "outputId": "9202fc4d-cea3-44da-bef9-4f303eb142b9"
   },
   "outputs": [],
   "source": [
    "share = 'UAL'\n",
    "\n",
    "#dataset = yf.download(share,\"2003-3-14\") #, start=\"2017-01-01\"\n",
    "dataset = yf.download(share,\"1995-1-1\") #, start=\"2017-01-01\"\n",
    "\n",
    "\n",
    "#dataset= dataset['2013-01-01':] #stripper \n",
    "\n",
    "dataset = dataset.drop(columns=['Open','High', 'Low','Adj Close','Volume'])\n",
    "dataset.head(20)\n",
    "\n",
    "dataset.dropna() # needed for FNGU and FNGD \n",
    "\n",
    "result = seasonal_decompose(dataset.Close, model='multiplicative',freq=252)\n",
    "\n",
    "# print()\n",
    "# print()\n",
    "# print(result.resid)\n",
    "# print(result.observed)\n",
    "\n",
    "# dataset.plot(figsize=(18,6))\n",
    "\n",
    "df = pd.DataFrame({\n",
    "   # \"trend\":result.trend,\n",
    "    \"seasonal\":result.seasonal,\n",
    "    \"resid\":result.resid\n",
    "    ,\"observed\":result.observed\n",
    "    \n",
    "    \n",
    "})\n",
    "\n",
    "df.plot(title=\"United Airlines\",figsize=(18,15),subplots=(4,1))"
   ]
  },
  {
   "cell_type": "code",
   "execution_count": null,
   "metadata": {
    "colab": {
     "base_uri": "https://localhost:8080/",
     "height": 1000
    },
    "colab_type": "code",
    "collapsed": true,
    "id": "SlvDVxBr3Raa",
    "outputId": "b3c17dc0-a9c8-4550-e136-fb5eb213b063"
   },
   "outputs": [],
   "source": [
    "\n",
    "\n",
    "share = 'LUV'\n",
    "\n",
    "#dataset = yf.download(share,\"2003-3-14\") #, start=\"2017-01-01\"\n",
    "dataset = yf.download(share,\"2014-1-1\") #, start=\"2017-01-01\"\n",
    "\n",
    "\n",
    "#dataset= dataset['2013-01-01':] #stripper \n",
    "\n",
    "dataset = dataset.drop(columns=['Open','High', 'Low','Adj Close','Volume'])\n",
    "dataset.head(20)\n",
    "\n",
    "dataset.dropna() # needed for FNGU and FNGD \n",
    "\n",
    "\n",
    "result = seasonal_decompose(dataset.Close, model='multiplicative',freq=252)#990\n",
    "\n",
    "# print()\n",
    "# print()\n",
    "# print(result.resid)\n",
    "# print(result.observed)\n",
    "\n",
    "# dataset.plot(figsize=(18,6))\n",
    "\n",
    "df = pd.DataFrame({\n",
    "   # \"trend\":result.trend,\n",
    "    \"seasonal\":result.seasonal,\n",
    "    \"resid\":result.resid\n",
    "    ,\"observed\":result.observed\n",
    "    \n",
    "    \n",
    "})\n",
    "df.plot(title=\"Sounthwest Airlines\",figsize=(18,15),subplots=(4,1))"
   ]
  },
  {
   "cell_type": "code",
   "execution_count": null,
   "metadata": {
    "colab": {
     "base_uri": "https://localhost:8080/",
     "height": 1000
    },
    "colab_type": "code",
    "collapsed": true,
    "id": "hcOSXK-DnDH1",
    "outputId": "5ae5c764-6387-4b9c-bb01-e659281ff652"
   },
   "outputs": [],
   "source": [
    "share = 'FIUIX'\n",
    "\n",
    "#dataset = yf.download(share,\"2003-3-14\") #, start=\"2017-01-01\"\n",
    "dataset = yf.download(share,\"2010-1-1\") #, start=\"2017-01-01\"\n",
    "\n",
    "\n",
    "#dataset= dataset['2013-01-01':] #stripper \n",
    "\n",
    "dataset = dataset.drop(columns=['Open','High', 'Low','Adj Close','Volume'])\n",
    "dataset.head(20)\n",
    "\n",
    "dataset.dropna() # needed for FNGU and FNGD \n",
    "\n",
    "\n",
    "result = seasonal_decompose(dataset.Close, model='multiplicative',freq=252)#990\n",
    "\n",
    "# print()\n",
    "# print()\n",
    "# print(result.resid)\n",
    "# print(result.observed)\n",
    "\n",
    "# dataset.plot(figsize=(18,6))\n",
    "\n",
    "df = pd.DataFrame({\n",
    "   # \"trend\":result.trend,\n",
    "    \"seasonal\":result.seasonal,\n",
    "    \"resid\":result.resid\n",
    "    ,\"observed\":result.observed\n",
    "    \n",
    "    \n",
    "})\n",
    "df.plot(title=\"Fidelity® Telecom and Utilities Fund\",figsize=(18,15),subplots=(4,1))"
   ]
  },
  {
   "cell_type": "code",
   "execution_count": null,
   "metadata": {
    "colab": {},
    "colab_type": "code",
    "collapsed": true,
    "id": "y7opRQ3o3Req"
   },
   "outputs": [],
   "source": []
  },
  {
   "cell_type": "code",
   "execution_count": null,
   "metadata": {
    "colab": {
     "base_uri": "https://localhost:8080/",
     "height": 1000
    },
    "colab_type": "code",
    "collapsed": true,
    "id": "J1Q8QpaY3Rhy",
    "outputId": "a90188f6-83a2-49d6-bbfb-8199339b83db"
   },
   "outputs": [],
   "source": [
    "share = 'GWX'\n",
    "\n",
    "#dataset = yf.download(share,\"2003-3-14\") #, start=\"2017-01-01\"\n",
    "dataset = yf.download(share,\"2013-1-1\") #, start=\"2017-01-01\"\n",
    "\n",
    "\n",
    "#dataset= dataset['2013-01-01':] #stripper \n",
    "\n",
    "dataset = dataset.drop(columns=['Open','High', 'Low','Adj Close','Volume'])\n",
    "dataset.head(20)\n",
    "\n",
    "dataset.dropna() # needed for FNGU and FNGD \n",
    "\n",
    "\n",
    "result = seasonal_decompose(dataset.Close, model='multiplicative',freq=252)#990\n",
    "\n",
    "# print()\n",
    "# print()\n",
    "# print(result.resid)\n",
    "# print(result.observed)\n",
    "\n",
    "# dataset.plot(figsize=(18,6))\n",
    "\n",
    "df = pd.DataFrame({\n",
    "   # \"trend\":result.trend,\n",
    "    \"seasonal\":result.seasonal,\n",
    "    \"resid\":result.resid\n",
    "    ,\"observed\":result.observed\n",
    "    \n",
    "    \n",
    "})\n",
    "df.plot(title=share,figsize=(18,15),subplots=(4,1))"
   ]
  },
  {
   "cell_type": "code",
   "execution_count": null,
   "metadata": {
    "colab": {},
    "colab_type": "code",
    "collapsed": true,
    "id": "_SrZkbKXqXM2"
   },
   "outputs": [],
   "source": []
  },
  {
   "cell_type": "code",
   "execution_count": null,
   "metadata": {
    "colab": {
     "base_uri": "https://localhost:8080/",
     "height": 1000
    },
    "colab_type": "code",
    "collapsed": true,
    "id": "bXFkp7oXqXQ8",
    "outputId": "42dbb60b-00b1-4fec-eee3-28722689569d"
   },
   "outputs": [],
   "source": [
    "share = 'TSLA'\n",
    "\n",
    "dataset = yf.download(share,\"2003-1-1\") #, start=\"2017-01-01\"\n",
    "\n",
    "\n",
    "dataset= dataset['2013-01-01':'2017-05-01'] #stripper \n",
    "dataset = dataset.drop(columns=['Open','High', 'Low','Adj Close','Volume'])\n",
    "\n",
    "df = pd.DataFrame({\"TSLA_three\":np.round(dataset.Close.rolling(window = 3, center = False).mean(), 5)}).dropna()\n",
    "\n",
    "\n",
    "result = seasonal_decompose(df.TSLA_three, model='multiplicative',freq=252)#990\n",
    "\n",
    "# print()\n",
    "# print()\n",
    "# print(result.resid)\n",
    "# print(result.observed)\n",
    "\n",
    "# dataset.plot(figsize=(18,6))\n",
    "\n",
    "df2 = pd.DataFrame({\n",
    "   # \"trend\":result.trend,\n",
    "    \"seasonal\":result.seasonal,\n",
    "    \"resid\":result.resid\n",
    "    ,\"observed\":result.observed\n",
    "    \n",
    "    \n",
    "})\n",
    "df2.plot(title=share,figsize=(18,15),subplots=(4,1))"
   ]
  },
  {
   "cell_type": "code",
   "execution_count": null,
   "metadata": {
    "colab": {
     "base_uri": "https://localhost:8080/",
     "height": 173
    },
    "colab_type": "code",
    "collapsed": true,
    "id": "WIfSUu0eqXTs",
    "outputId": "68de9309-b5d3-4277-f377-6049d20d3128"
   },
   "outputs": [],
   "source": [
    "df2=df2.dropna()\n",
    "#normalized_df=(df-df.min())/(df.max()-df.min())\n",
    "df2.corr()"
   ]
  },
  {
   "cell_type": "markdown",
   "metadata": {
    "colab_type": "text",
    "id": "Cf478XGIqXW0"
   },
   "source": [
    "a moderate positive relationship is defined as Pearson r = 0.476\n",
    "\n",
    "https://en.wikipedia.org/wiki/Pearson_correlation_coefficient#For_a_population\n",
    "\n",
    "http://www.opentextbooks.org.hk/ditatopic/9498"
   ]
  },
  {
   "cell_type": "code",
   "execution_count": null,
   "metadata": {
    "colab": {
     "base_uri": "https://localhost:8080/",
     "height": 68
    },
    "colab_type": "code",
    "collapsed": true,
    "id": "GqTxwCgNqXZ1",
    "outputId": "5dd4b2ce-010e-41f3-8b34-8a67e02d8725"
   },
   "outputs": [],
   "source": [
    "corr,pVal = scipy.stats.pearsonr(df2.seasonal,df2.observed)\n",
    "\n",
    "print(\"corr is: \",corr)\n",
    "if (pVal <  0.05):\n",
    "   print(\"P-value is significant! There is a correlation\")\n",
    "   print(\"Given our significance level of α = 0.05, There is sufficient evidence to conclude that there is a significant linear relationship between x and y because the correlation coefficient is significantly different from 0.\")"
   ]
  },
  {
   "cell_type": "code",
   "execution_count": null,
   "metadata": {
    "colab": {
     "base_uri": "https://localhost:8080/",
     "height": 68
    },
    "colab_type": "code",
    "collapsed": true,
    "id": "4YccYKrrqXfk",
    "outputId": "4cd686f0-e01d-47dd-c0c1-023e2bd2ee2e"
   },
   "outputs": [],
   "source": [
    "corr,pVal = scipy.stats.spearmanr(df2.seasonal,df2.observed)\n",
    "print(\"corr is: \",corr)\n",
    "if (pVal <  0.05):\n",
    "   print(\"P-value is significant! There is a correlation\")\n",
    "   print(\"Given our significance level of α = 0.05, There is sufficient evidence to conclude that there is a significant linear relationship between x and y because the correlation coefficient is significantly different from 0.\")"
   ]
  },
  {
   "cell_type": "markdown",
   "metadata": {
    "colab_type": "text",
    "id": "OUCvXLMzRC4P"
   },
   "source": [
    "the above is technically worng\n",
    "\n",
    "because https://stats.stackexchange.com/a/133171/215964\n",
    "\n",
    "> Pearson correlation is used to look at correlation between series ... but being time series the correlation is looked at across different lags -- the cross-correlation function.\n",
    "\n",
    "now we use [Cross-correlation](https://en.wikipedia.org/wiki/Cross-correlation#Time_series_analysis)\n",
    "\n",
    "https://datafireball.com/2018/12/19/cross-correlation-python-basics/\n",
    "\n",
    "https://www.svds.com/avoiding-common-mistakes-with-time-series/\n",
    "\n",
    "https://www.fil.ion.ucl.ac.uk/~wpenny/course/array.pdf"
   ]
  },
  {
   "cell_type": "markdown",
   "metadata": {
    "colab_type": "text",
    "id": "VyJi_wS9RC7n"
   },
   "source": [
    "# Auto Correlation"
   ]
  },
  {
   "cell_type": "code",
   "execution_count": null,
   "metadata": {
    "colab": {
     "base_uri": "https://localhost:8080/",
     "height": 303
    },
    "colab_type": "code",
    "collapsed": true,
    "id": "DIK1YlfRRC-Q",
    "outputId": "90f2319e-0d85-4146-b6f6-f75059d6447a"
   },
   "outputs": [],
   "source": [
    "from statsmodels.graphics.tsaplots import plot_pacf\n",
    "from statsmodels.graphics.tsaplots import plot_acf\n",
    "\n",
    "plot_acf(df.TSLA_three, lags=200)\n",
    "plt.show()\n"
   ]
  },
  {
   "cell_type": "markdown",
   "metadata": {
    "colab_type": "text",
    "id": "OfxhlnvEZSwi"
   },
   "source": [
    "# 1D Cross Correlation"
   ]
  },
  {
   "cell_type": "code",
   "execution_count": null,
   "metadata": {
    "colab": {
     "base_uri": "https://localhost:8080/",
     "height": 299
    },
    "colab_type": "code",
    "collapsed": true,
    "id": "KN-6pKIZRDA3",
    "outputId": "f1238ca5-aac7-4d0b-fb8f-4f00fa22c525"
   },
   "outputs": [],
   "source": [
    "x =scipy.signal.correlate(df2.seasonal,df2.observed) # https://docs.scipy.org/doc/numpy-1.13.0/reference/generated/numpy.correlate.html\n",
    "\n",
    "x=pd.DataFrame({'x':x})\n",
    "x.plot()\n"
   ]
  },
  {
   "cell_type": "code",
   "execution_count": null,
   "metadata": {
    "colab": {},
    "colab_type": "code",
    "collapsed": true,
    "id": "zVVPyMInRDDf"
   },
   "outputs": [],
   "source": []
  },
  {
   "cell_type": "code",
   "execution_count": null,
   "metadata": {
    "colab": {},
    "colab_type": "code",
    "collapsed": true,
    "id": "t9TI3t6yRDF_"
   },
   "outputs": [],
   "source": []
  },
  {
   "cell_type": "code",
   "execution_count": null,
   "metadata": {
    "colab": {},
    "colab_type": "code",
    "collapsed": true,
    "id": "B_GeWQKMqXjM"
   },
   "outputs": [],
   "source": []
  },
  {
   "cell_type": "code",
   "execution_count": null,
   "metadata": {
    "collapsed": true
   },
   "outputs": [],
   "source": []
  },
  {
   "cell_type": "code",
   "execution_count": null,
   "metadata": {
    "collapsed": true
   },
   "outputs": [],
   "source": []
  },
  {
   "cell_type": "code",
   "execution_count": null,
   "metadata": {
    "collapsed": true
   },
   "outputs": [],
   "source": []
  },
  {
   "cell_type": "code",
   "execution_count": null,
   "metadata": {
    "collapsed": true
   },
   "outputs": [],
   "source": []
  },
  {
   "cell_type": "code",
   "execution_count": null,
   "metadata": {
    "collapsed": true
   },
   "outputs": [],
   "source": []
  },
  {
   "cell_type": "code",
   "execution_count": null,
   "metadata": {
    "collapsed": true
   },
   "outputs": [],
   "source": []
  },
  {
   "cell_type": "code",
   "execution_count": null,
   "metadata": {
    "collapsed": true
   },
   "outputs": [],
   "source": []
  },
  {
   "cell_type": "code",
   "execution_count": null,
   "metadata": {
    "collapsed": true
   },
   "outputs": [],
   "source": []
  },
  {
   "cell_type": "code",
   "execution_count": null,
   "metadata": {
    "collapsed": true
   },
   "outputs": [],
   "source": []
  },
  {
   "cell_type": "code",
   "execution_count": null,
   "metadata": {
    "collapsed": true
   },
   "outputs": [],
   "source": []
  }
 ],
 "metadata": {
  "accelerator": "GPU",
  "colab": {
   "collapsed_sections": [],
   "include_colab_link": true,
   "name": "!ETF tsa.seasonal.ipynb",
   "provenance": [],
   "version": "0.3.2"
  },
  "kernelspec": {
   "display_name": "Python 3",
   "language": "python",
   "name": "python3"
  },
  "language_info": {
   "codemirror_mode": {
    "name": "ipython",
    "version": 3
   },
   "file_extension": ".py",
   "mimetype": "text/x-python",
   "name": "python",
   "nbconvert_exporter": "python",
   "pygments_lexer": "ipython3",
   "version": "3.5.3"
  }
 },
 "nbformat": 4,
 "nbformat_minor": 1
}
