{
 "cells": [
  {
   "cell_type": "markdown",
   "metadata": {},
   "source": [
    "# Introduction to Statsmodels"
   ]
  },
  {
   "cell_type": "code",
   "execution_count": null,
   "metadata": {
    "collapsed": true
   },
   "outputs": [],
   "source": [
    "import numpy as np\n",
    "import pandas as pd\n",
    "import matplotlib.pyplot as plt\n",
    "import scipy\n",
    "%matplotlib inline"
   ]
  },
  {
   "cell_type": "code",
   "execution_count": null,
   "metadata": {},
   "outputs": [],
   "source": [
    "from pandas_datareader import data as web  \n",
    "\n",
    "ticker = 'TSLA'  \n",
    "data = pd.DataFrame()\n",
    "data[ticker] = web.DataReader(ticker, data_source='yahoo', start='2017-1-1')['Adj Close']"
   ]
  },
  {
   "cell_type": "code",
   "execution_count": null,
   "metadata": {},
   "outputs": [],
   "source": [
    "data.head()"
   ]
  },
  {
   "cell_type": "code",
   "execution_count": null,
   "metadata": {
    "collapsed": true
   },
   "outputs": [],
   "source": [
    "# You can safely ignore the warning:\n",
    "#  Please use the pandas.tseries module instead. from pandas.core import datetools\n",
    "import statsmodels.api as sm"
   ]
  },
  {
   "cell_type": "markdown",
   "metadata": {},
   "source": [
    "## Using Statsmodels to get the trend\n",
    "The Hodrick-Prescott filter separates a time-series  y_t  into a trend  τ_t and a cyclical component  ζt\n",
    "\n",
    "$y_t = \\tau_t + \\zeta_t$\n",
    "\n",
    "The components are determined by minimizing the following quadratic loss function\n",
    "\n",
    "$\\min_{\\\\{ \\tau_{t}\\\\} }\\sum_{t}^{T}\\zeta_{t}^{2}+\\lambda\\sum_{t=1}^{T}\\left[\\left(\\tau_{t}-\\tau_{t-1}\\right)-\\left(\\tau_{t-1}-\\tau_{t-2}\\right)\\right]^{2}$"
   ]
  },
  {
   "cell_type": "code",
   "execution_count": null,
   "metadata": {
    "collapsed": true
   },
   "outputs": [],
   "source": [
    "# gdp_cycle, gdp_trend = sm.tsa.filters.hpfilter(df.realgdp)\n",
    "# df[['trend','realgdp']][\"2000-03-31\":].plot(figsize=(12,8))"
   ]
  },
  {
   "cell_type": "code",
   "execution_count": null,
   "metadata": {},
   "outputs": [],
   "source": [
    "data['TSLA'].plot(figsize=(12,6))\n",
    "plt.ylabel(\"REAL GDP\")"
   ]
  },
  {
   "cell_type": "code",
   "execution_count": null,
   "metadata": {},
   "outputs": [],
   "source": [
    "cycle, trend = sm.tsa.filters.hpfilter(data.TSLA)"
   ]
  },
  {
   "cell_type": "code",
   "execution_count": null,
   "metadata": {},
   "outputs": [],
   "source": [
    "plt.figure(figsize=(12,6))\n",
    "plt.plot(cycle)"
   ]
  },
  {
   "cell_type": "code",
   "execution_count": null,
   "metadata": {},
   "outputs": [],
   "source": [
    "plt.figure(figsize=(12,6))\n",
    "plt.plot(trend,label = \"Trend\")\n",
    "plt.plot(data.TSLA , label = \"TSLA\")\n",
    "plt.plot(cycle +200, label = \"Cycle\")\n",
    "plt.legend()\n",
    "plt.ylabel(\"Price\")\n",
    "plt.xlabel(\"Date\")\n",
    "plt.title(\"Note that cycle is offset by 200\")"
   ]
  },
  {
   "cell_type": "markdown",
   "metadata": {},
   "source": [
    "## from statsmodels.tsa.seasonal import seasonal_decompose"
   ]
  },
  {
   "cell_type": "code",
   "execution_count": null,
   "metadata": {},
   "outputs": [],
   "source": [
    "# from pandas import datetime\n",
    "# ts = web.DataReader('TSLA',  'yahoo', datetime(2018,1,1), datetime(2019,12,30))[\"Adj Close\"]\n",
    "\n",
    "from statsmodels.tsa.seasonal import seasonal_decompose\n",
    "tsla = data.TSLA\n",
    "\n",
    "#tsla = pd.to_datetime(data.TSLA.values, unit='d')\n",
    "\n",
    "result = seasonal_decompose(tsla, model='multiplicative',freq=252);"
   ]
  },
  {
   "cell_type": "code",
   "execution_count": null,
   "metadata": {},
   "outputs": [],
   "source": [
    "_ = result.plot()"
   ]
  },
  {
   "cell_type": "code",
   "execution_count": null,
   "metadata": {},
   "outputs": [],
   "source": [
    "tmp = result.observed.values\n",
    "observed = tmp / tmp.max()\n",
    "\n",
    "tmp = result.trend.values\n",
    "trend = tmp / tmp.max()\n",
    "# observed"
   ]
  },
  {
   "cell_type": "code",
   "execution_count": null,
   "metadata": {},
   "outputs": [],
   "source": [
    "# result.trend\n",
    "# result.seasonal\n",
    "# result.resid\n",
    "\n",
    "\n",
    "df = pd.DataFrame({\n",
    "    \"seasonal\":result.seasonal.values,\n",
    "    \"resid\":result.resid,\n",
    "    \"observed\":observed\n",
    "    ,\"trend\":result.trend\n",
    "})\n",
    "df.plot(title=\"tsla\",figsize=(15,12),subplots=(4,1))"
   ]
  },
  {
   "cell_type": "code",
   "execution_count": null,
   "metadata": {},
   "outputs": [],
   "source": [
    "plt.figure(figsize=(12,6))\n",
    "plt.plot(df.seasonal)\n",
    "plt.plot(df.observed,color='green')# ,label=\"\"\n",
    "\n",
    "plt.ylabel(\"Price\")\n",
    "plt.xlabel(\"Date\")\n",
    "plt.legend()\n",
    "plt.title(\"seasonal & observed\")"
   ]
  },
  {
   "cell_type": "code",
   "execution_count": null,
   "metadata": {},
   "outputs": [],
   "source": [
    "plt.figure(figsize=(12,6))\n",
    "plt.plot(trend,label = \"Trend\")\n",
    "plt.plot(data.TSLA , label = \"TSLA\")\n",
    "plt.plot(cycle +200, label = \"Cycle\")\n",
    "plt.legend()\n",
    "plt.ylabel(\"Price\")\n",
    "plt.xlabel(\"Date\")\n",
    "plt.title(\"Note that cycle is offset by 200\")"
   ]
  },
  {
   "cell_type": "code",
   "execution_count": null,
   "metadata": {},
   "outputs": [],
   "source": [
    "corr,pVal = scipy.stats.pearsonr(df.seasonal,df.observed)\n",
    "\n",
    "print(\"corr is: \",corr)\n",
    "if (pVal <  0.05):\n",
    "   print(\"P-value is significant! There is a correlation, \", pVal)\n",
    "   print(\"Given our significance level of α = 0.05, There is sufficient evidence to conclude that there is a significant linear relationship between x and y because the correlation coefficient is significantly different from 0.\")"
   ]
  },
  {
   "cell_type": "code",
   "execution_count": null,
   "metadata": {},
   "outputs": [],
   "source": []
  },
  {
   "cell_type": "code",
   "execution_count": null,
   "metadata": {
    "collapsed": true
   },
   "outputs": [],
   "source": []
  }
 ],
 "metadata": {
  "anaconda-cloud": {},
  "kernelspec": {
   "display_name": "Python 3",
   "language": "python",
   "name": "python3"
  }
 },
 "nbformat": 4,
 "nbformat_minor": 2
}
